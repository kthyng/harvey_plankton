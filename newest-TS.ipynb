{
 "cells": [
  {
   "cell_type": "code",
   "execution_count": 1,
   "metadata": {},
   "outputs": [],
   "source": [
    "import pandas as pd\n",
    "import matplotlib.pyplot as plt\n",
    "import xarray as xr\n",
    "from glob import glob\n",
    "import scs\n",
    "import numpy as np"
   ]
  },
  {
   "cell_type": "code",
   "execution_count": 2,
   "metadata": {},
   "outputs": [
    {
     "name": "stdout",
     "output_type": "stream",
     "text": [
      "Collecting package metadata (current_repodata.json): done\n",
      "Solving environment: done\n",
      "\n",
      "\n",
      "==> WARNING: A newer version of conda exists. <==\n",
      "  current version: 4.7.10\n",
      "  latest version: 4.7.12\n",
      "\n",
      "Please update conda by running\n",
      "\n",
      "    $ conda update -n base -c defaults conda\n",
      "\n",
      "\n",
      "\n",
      "## Package Plan ##\n",
      "\n",
      "  environment location: /Users/kthyng/miniconda3/envs/cart\n",
      "\n",
      "  added / updated specs:\n",
      "    - gsw\n",
      "\n",
      "\n",
      "The following packages will be downloaded:\n",
      "\n",
      "    package                    |            build\n",
      "    ---------------------------|-----------------\n",
      "    gsw-3.3.1                  |   py37h3b54f70_1         1.8 MB  conda-forge\n",
      "    ------------------------------------------------------------\n",
      "                                           Total:         1.8 MB\n",
      "\n",
      "The following NEW packages will be INSTALLED:\n",
      "\n",
      "  gsw                conda-forge/osx-64::gsw-3.3.1-py37h3b54f70_1\n",
      "\n",
      "The following packages will be UPDATED:\n",
      "\n",
      "  qtconsole                                      4.5.5-py_0 --> 4.6.0-py_0\n",
      "\n",
      "\n",
      "\n",
      "Downloading and Extracting Packages\n",
      "gsw-3.3.1            | 1.8 MB    | ##################################### | 100% \n",
      "Preparing transaction: done\n",
      "Verifying transaction: done\n",
      "Executing transaction: done\n"
     ]
    }
   ],
   "source": [
    "!conda install gsw --yes"
   ]
  },
  {
   "cell_type": "code",
   "execution_count": 3,
   "metadata": {},
   "outputs": [],
   "source": [
    "fname = 'data/buoys.csv'\n",
    "buoys = pd.read_csv(fname, parse_dates=True, index_col=0)"
   ]
  },
  {
   "cell_type": "code",
   "execution_count": 23,
   "metadata": {},
   "outputs": [
    {
     "data": {
      "text/plain": [
       "W: WaterT [deg C] (dcs)    28.34201\n",
       "42019: WaterT [deg C]      28.78137\n",
       "dtype: float64"
      ]
     },
     "execution_count": 23,
     "metadata": {},
     "output_type": "execute_result"
    }
   ],
   "source": [
    "\n",
    "\n",
    "buoys['2017-9-20':'2017-9-27'][['W: WaterT [deg C] (dcs)','42019: WaterT [deg C]']].mean()"
   ]
  },
  {
   "cell_type": "code",
   "execution_count": 32,
   "metadata": {},
   "outputs": [
    {
     "data": {
      "text/plain": [
       "D: WaterT [deg C] (microcat)    28.894132\n",
       "D: WaterT [deg C] (dcs)         28.936927\n",
       "W: WaterT [deg C] (microcat)          NaN\n",
       "W: WaterT [deg C] (dcs)         28.283958\n",
       "B: WaterT [deg C] (microcat)    20.018247\n",
       "B: WaterT [deg C] (dcs)         28.603125\n",
       "F: WaterT [deg C] (microcat)    28.502951\n",
       "F: WaterT [deg C] (dcs)         28.539106\n",
       "V: WaterT [deg C] (microcat)    28.867743\n",
       "V: WaterT [deg C] (dcs)               NaN\n",
       "42019: WaterT [deg C]           28.811594\n",
       "42035: WaterT [deg C]           28.533901\n",
       "8773146: WaterT [deg C]         29.591840\n",
       "8772985: WaterT [deg C]         29.357928\n",
       "8771972: WaterT [deg C]         29.689130\n",
       "8773767: WaterT [deg C]         28.967361\n",
       "8773701: WaterT [deg C]         28.992361\n",
       "8773259: WaterT [deg C]         29.053856\n",
       "8773037: WaterT [deg C]         28.999653\n",
       "8775241: WaterT [deg C]         29.080729\n",
       "8775237: WaterT [deg C]         29.114844\n",
       "8775296: WaterT [deg C]         29.103646\n",
       "8775244: WaterT [deg C]         28.709201\n",
       "8775792: WaterT [deg C]         28.978950\n",
       "8775870: WaterT [deg C]         29.168229\n",
       "dtype: float64"
      ]
     },
     "execution_count": 32,
     "metadata": {},
     "output_type": "execute_result"
    }
   ],
   "source": [
    "inds = np.where(['WaterT' in col for col in buoys.columns])[0]\n",
    "buoys.iloc[:,inds].mean()"
   ]
  },
  {
   "cell_type": "code",
   "execution_count": null,
   "metadata": {},
   "outputs": [],
   "source": []
  }
 ],
 "metadata": {
  "kernelspec": {
   "display_name": "Python 3",
   "language": "python",
   "name": "python3"
  },
  "language_info": {
   "codemirror_mode": {
    "name": "ipython",
    "version": 3
   },
   "file_extension": ".py",
   "mimetype": "text/x-python",
   "name": "python",
   "nbconvert_exporter": "python",
   "pygments_lexer": "ipython3",
   "version": "3.7.3"
  }
 },
 "nbformat": 4,
 "nbformat_minor": 4
}
